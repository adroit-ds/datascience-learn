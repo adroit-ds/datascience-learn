{
 "cells": [
  {
   "cell_type": "code",
   "execution_count": 69,
   "metadata": {},
   "outputs": [],
   "source": [
    "\"\"\"\n",
    "Imports\n",
    "\"\"\"\n",
    "\n",
    "import xgboost as xgb\n",
    "import pandas as pd\n",
    "import numpy as np\n",
    "import plotly.express as px\n",
    "from tabulate import tabulate\n",
    "from sklearn.datasets import make_classification"
   ]
  },
  {
   "cell_type": "markdown",
   "metadata": {},
   "source": [
    "## synthetic data"
   ]
  },
  {
   "cell_type": "code",
   "execution_count": 27,
   "metadata": {},
   "outputs": [],
   "source": [
    "\"\"\"\n",
    "data\n",
    "\"\"\"\n",
    "\n",
    "seed = 1234\n",
    "X, y = make_classification(random_state=seed)\n",
    "rng = np.random.default_rng(seed=seed)\n",
    "n_query_groups = 3\n",
    "qid = rng.integers(0, 3, size=X.shape[0])\n",
    "\n",
    "# sort the inputs based on query index\n",
    "sorted_idx = np.argsort(qid)\n",
    "X = X[sorted_idx, :]\n",
    "y = y[sorted_idx]\n",
    "qid=qid[sorted_idx] # must be sorted in non-decreasing order for training process to work (not in the documentation)"
   ]
  },
  {
   "cell_type": "code",
   "execution_count": 47,
   "metadata": {},
   "outputs": [
    {
     "name": "stdout",
     "output_type": "stream",
     "text": [
      "+----+----------+-----------+-----------+-----------+------------+-----------+-----------+------------+------------+------------+------------+-----------+-----------+------------+-----------+------------+------------+-----------+-----------+-----------+-----+-------+\n",
      "|    |        0 |         1 |         2 |         3 |          4 |         5 |         6 |          7 |          8 |          9 |         10 |        11 |        12 |         13 |        14 |         15 |         16 |        17 |        18 |        19 |   y |   qid |\n",
      "+====+==========+===========+===========+===========+============+===========+===========+============+============+============+============+===========+===========+============+===========+============+============+===========+===========+===========+=====+=======+\n",
      "|  0 | 1.21112  |  0.663858 |  0.344323 | -1.02793  |  1.16554   |  0.903031 | -1.80463  |  0.633436  |  0.159223  |  0.457997  |  0.413614  | -0.176121 |  0.156078 | -0.11388   |  0.942438 | -1.87078   |  0.509758  |  1.63681  | -0.647094 |  0.6611   |   1 |     0 |\n",
      "+----+----------+-----------+-----------+-----------+------------+-----------+-----------+------------+------------+------------+------------+-----------+-----------+------------+-----------+------------+------------+-----------+-----------+-----------+-----+-------+\n",
      "|  1 | 0.312536 | -0.157444 | -0.727414 | -0.127949 |  0.685562  |  0.32322  |  2.11585  | -0.0658403 | -1.1688    | -0.139753  |  0.0684266 |  0.454253 |  1.38129  | -1.41848   | -0.788472 | -0.369311  |  1.5152    | -1.47523  | -0.245875 | -2.623    |   1 |     0 |\n",
      "+----+----------+-----------+-----------+-----------+------------+-----------+-----------+------------+------------+------------+------------+-----------+-----------+------------+-----------+------------+------------+-----------+-----------+-----------+-----+-------+\n",
      "|  2 | 0.989419 | -1.41141  | -0.810399 | -0.852559 | -0.0920297 |  0.188658 | -0.905731 |  1.56633   |  0.449079  | -1.28692   |  0.85885   | -0.219545 | -0.279287 |  2.44456   |  0.288989 |  2.71036   | -0.345597  |  1.04112  | -0.710414 |  0.030951 |   0 |     0 |\n",
      "+----+----------+-----------+-----------+-----------+------------+-----------+-----------+------------+------------+------------+------------+-----------+-----------+------------+-----------+------------+------------+-----------+-----------+-----------+-----+-------+\n",
      "|  3 | 0.362018 |  1.43539  |  0.228927 | -0.353572 |  1.71143   | -0.952846 | -0.48131  | -0.425672  |  0.375605  |  0.0102815 |  0.0408434 |  0.572592 | -1.16752  |  0.755689  |  1.10446  | -0.0306589 | -1.12892   | -0.813061 |  1.09274  | -0.200172 |   0 |     0 |\n",
      "+----+----------+-----------+-----------+-----------+------------+-----------+-----------+------------+------------+------------+------------+-----------+-----------+------------+-----------+------------+------------+-----------+-----------+-----------+-----+-------+\n",
      "|  4 | 0.88064  |  0.172037 | -0.879813 |  0.431568 |  0.134097  |  0.058615 |  1.63896  | -0.636605  |  0.0706755 | -0.387815  | -0.421266  | -1.47257  | -1.36502  | -0.0158382 |  0.75771  |  1.61379   | -0.0325171 |  0.207703 |  0.11182  | -0.297385 |   1 |     0 |\n",
      "+----+----------+-----------+-----------+-----------+------------+-----------+-----------+------------+------------+------------+------------+-----------+-----------+------------+-----------+------------+------------+-----------+-----------+-----------+-----+-------+\n",
      "1    50\n",
      "0    50\n",
      "Name: y, dtype: int64\n"
     ]
    }
   ],
   "source": [
    "# create dataframe from ndarray\n",
    "\n",
    "df = pd.DataFrame(data=X)\n",
    "df[\"y\"] = y\n",
    "df[\"qid\"] = qid[sorted_idx]\n",
    "print(tabulate(df.head(5), headers=\"keys\", tablefmt=\"grid\"))\n",
    "print(df[\"y\"].value_counts())"
   ]
  },
  {
   "cell_type": "code",
   "execution_count": 50,
   "metadata": {},
   "outputs": [
    {
     "data": {
      "text/html": [
       "<div>\n",
       "<style scoped>\n",
       "    .dataframe tbody tr th:only-of-type {\n",
       "        vertical-align: middle;\n",
       "    }\n",
       "\n",
       "    .dataframe tbody tr th {\n",
       "        vertical-align: top;\n",
       "    }\n",
       "\n",
       "    .dataframe thead th {\n",
       "        text-align: right;\n",
       "    }\n",
       "</style>\n",
       "<table border=\"1\" class=\"dataframe\">\n",
       "  <thead>\n",
       "    <tr style=\"text-align: right;\">\n",
       "      <th></th>\n",
       "      <th>qid</th>\n",
       "      <th>y</th>\n",
       "      <th>nrows</th>\n",
       "    </tr>\n",
       "  </thead>\n",
       "  <tbody>\n",
       "    <tr>\n",
       "      <th>0</th>\n",
       "      <td>0</td>\n",
       "      <td>0</td>\n",
       "      <td>16</td>\n",
       "    </tr>\n",
       "    <tr>\n",
       "      <th>1</th>\n",
       "      <td>0</td>\n",
       "      <td>1</td>\n",
       "      <td>15</td>\n",
       "    </tr>\n",
       "    <tr>\n",
       "      <th>2</th>\n",
       "      <td>1</td>\n",
       "      <td>0</td>\n",
       "      <td>13</td>\n",
       "    </tr>\n",
       "    <tr>\n",
       "      <th>3</th>\n",
       "      <td>1</td>\n",
       "      <td>1</td>\n",
       "      <td>13</td>\n",
       "    </tr>\n",
       "    <tr>\n",
       "      <th>4</th>\n",
       "      <td>2</td>\n",
       "      <td>0</td>\n",
       "      <td>21</td>\n",
       "    </tr>\n",
       "    <tr>\n",
       "      <th>5</th>\n",
       "      <td>2</td>\n",
       "      <td>1</td>\n",
       "      <td>22</td>\n",
       "    </tr>\n",
       "  </tbody>\n",
       "</table>\n",
       "</div>"
      ],
      "text/plain": [
       "   qid  y  nrows\n",
       "0    0  0     16\n",
       "1    0  1     15\n",
       "2    1  0     13\n",
       "3    1  1     13\n",
       "4    2  0     21\n",
       "5    2  1     22"
      ]
     },
     "execution_count": 50,
     "metadata": {},
     "output_type": "execute_result"
    }
   ],
   "source": [
    "# get 1's and 0's for every query\n",
    "\n",
    "df.groupby([\"qid\", \"y\"]).agg(nrows = (\"y\", \"count\")).reset_index()"
   ]
  },
  {
   "cell_type": "markdown",
   "metadata": {},
   "source": [
    "## ranking model"
   ]
  },
  {
   "cell_type": "code",
   "execution_count": 54,
   "metadata": {},
   "outputs": [
    {
     "data": {
      "text/html": [
       "<style>#sk-container-id-1 {color: black;background-color: white;}#sk-container-id-1 pre{padding: 0;}#sk-container-id-1 div.sk-toggleable {background-color: white;}#sk-container-id-1 label.sk-toggleable__label {cursor: pointer;display: block;width: 100%;margin-bottom: 0;padding: 0.3em;box-sizing: border-box;text-align: center;}#sk-container-id-1 label.sk-toggleable__label-arrow:before {content: \"▸\";float: left;margin-right: 0.25em;color: #696969;}#sk-container-id-1 label.sk-toggleable__label-arrow:hover:before {color: black;}#sk-container-id-1 div.sk-estimator:hover label.sk-toggleable__label-arrow:before {color: black;}#sk-container-id-1 div.sk-toggleable__content {max-height: 0;max-width: 0;overflow: hidden;text-align: left;background-color: #f0f8ff;}#sk-container-id-1 div.sk-toggleable__content pre {margin: 0.2em;color: black;border-radius: 0.25em;background-color: #f0f8ff;}#sk-container-id-1 input.sk-toggleable__control:checked~div.sk-toggleable__content {max-height: 200px;max-width: 100%;overflow: auto;}#sk-container-id-1 input.sk-toggleable__control:checked~label.sk-toggleable__label-arrow:before {content: \"▾\";}#sk-container-id-1 div.sk-estimator input.sk-toggleable__control:checked~label.sk-toggleable__label {background-color: #d4ebff;}#sk-container-id-1 div.sk-label input.sk-toggleable__control:checked~label.sk-toggleable__label {background-color: #d4ebff;}#sk-container-id-1 input.sk-hidden--visually {border: 0;clip: rect(1px 1px 1px 1px);clip: rect(1px, 1px, 1px, 1px);height: 1px;margin: -1px;overflow: hidden;padding: 0;position: absolute;width: 1px;}#sk-container-id-1 div.sk-estimator {font-family: monospace;background-color: #f0f8ff;border: 1px dotted black;border-radius: 0.25em;box-sizing: border-box;margin-bottom: 0.5em;}#sk-container-id-1 div.sk-estimator:hover {background-color: #d4ebff;}#sk-container-id-1 div.sk-parallel-item::after {content: \"\";width: 100%;border-bottom: 1px solid gray;flex-grow: 1;}#sk-container-id-1 div.sk-label:hover label.sk-toggleable__label {background-color: #d4ebff;}#sk-container-id-1 div.sk-serial::before {content: \"\";position: absolute;border-left: 1px solid gray;box-sizing: border-box;top: 0;bottom: 0;left: 50%;z-index: 0;}#sk-container-id-1 div.sk-serial {display: flex;flex-direction: column;align-items: center;background-color: white;padding-right: 0.2em;padding-left: 0.2em;position: relative;}#sk-container-id-1 div.sk-item {position: relative;z-index: 1;}#sk-container-id-1 div.sk-parallel {display: flex;align-items: stretch;justify-content: center;background-color: white;position: relative;}#sk-container-id-1 div.sk-item::before, #sk-container-id-1 div.sk-parallel-item::before {content: \"\";position: absolute;border-left: 1px solid gray;box-sizing: border-box;top: 0;bottom: 0;left: 50%;z-index: -1;}#sk-container-id-1 div.sk-parallel-item {display: flex;flex-direction: column;z-index: 1;position: relative;background-color: white;}#sk-container-id-1 div.sk-parallel-item:first-child::after {align-self: flex-end;width: 50%;}#sk-container-id-1 div.sk-parallel-item:last-child::after {align-self: flex-start;width: 50%;}#sk-container-id-1 div.sk-parallel-item:only-child::after {width: 0;}#sk-container-id-1 div.sk-dashed-wrapped {border: 1px dashed gray;margin: 0 0.4em 0.5em 0.4em;box-sizing: border-box;padding-bottom: 0.4em;background-color: white;}#sk-container-id-1 div.sk-label label {font-family: monospace;font-weight: bold;display: inline-block;line-height: 1.2em;}#sk-container-id-1 div.sk-label-container {text-align: center;}#sk-container-id-1 div.sk-container {/* jupyter's `normalize.less` sets `[hidden] { display: none; }` but bootstrap.min.css set `[hidden] { display: none !important; }` so we also need the `!important` here to be able to override the default hidden behavior on the sphinx rendered scikit-learn.org. See: https://github.com/scikit-learn/scikit-learn/issues/21755 */display: inline-block !important;position: relative;}#sk-container-id-1 div.sk-text-repr-fallback {display: none;}</style><div id=\"sk-container-id-1\" class=\"sk-top-container\"><div class=\"sk-text-repr-fallback\"><pre>XGBRanker(base_score=None, booster=None, callbacks=None, colsample_bylevel=None,\n",
       "          colsample_bynode=None, colsample_bytree=None, device=None,\n",
       "          early_stopping_rounds=None, enable_categorical=False,\n",
       "          eval_metric=None, feature_types=None, gamma=None, grow_policy=None,\n",
       "          importance_type=None, interaction_constraints=None,\n",
       "          lambdarank_num_pair_per_sample=8, lambdarank_pair_method=&#x27;topk&#x27;,\n",
       "          learning_rate=None, max_bin=None, max_cat_threshold=None,\n",
       "          max_cat_to_onehot=None, max_delta_step=None, max_depth=None,\n",
       "          max_leaves=None, min_child_weight=None, missing=nan,\n",
       "          monotone_constraints=None, multi_strategy=None, n_estimators=None,\n",
       "          n_jobs=None, ...)</pre><b>In a Jupyter environment, please rerun this cell to show the HTML representation or trust the notebook. <br />On GitHub, the HTML representation is unable to render, please try loading this page with nbviewer.org.</b></div><div class=\"sk-container\" hidden><div class=\"sk-item\"><div class=\"sk-estimator sk-toggleable\"><input class=\"sk-toggleable__control sk-hidden--visually\" id=\"sk-estimator-id-1\" type=\"checkbox\" checked><label for=\"sk-estimator-id-1\" class=\"sk-toggleable__label sk-toggleable__label-arrow\">XGBRanker</label><div class=\"sk-toggleable__content\"><pre>XGBRanker(base_score=None, booster=None, callbacks=None, colsample_bylevel=None,\n",
       "          colsample_bynode=None, colsample_bytree=None, device=None,\n",
       "          early_stopping_rounds=None, enable_categorical=False,\n",
       "          eval_metric=None, feature_types=None, gamma=None, grow_policy=None,\n",
       "          importance_type=None, interaction_constraints=None,\n",
       "          lambdarank_num_pair_per_sample=8, lambdarank_pair_method=&#x27;topk&#x27;,\n",
       "          learning_rate=None, max_bin=None, max_cat_threshold=None,\n",
       "          max_cat_to_onehot=None, max_delta_step=None, max_depth=None,\n",
       "          max_leaves=None, min_child_weight=None, missing=nan,\n",
       "          monotone_constraints=None, multi_strategy=None, n_estimators=None,\n",
       "          n_jobs=None, ...)</pre></div></div></div></div></div>"
      ],
      "text/plain": [
       "XGBRanker(base_score=None, booster=None, callbacks=None, colsample_bylevel=None,\n",
       "          colsample_bynode=None, colsample_bytree=None, device=None,\n",
       "          early_stopping_rounds=None, enable_categorical=False,\n",
       "          eval_metric=None, feature_types=None, gamma=None, grow_policy=None,\n",
       "          importance_type=None, interaction_constraints=None,\n",
       "          lambdarank_num_pair_per_sample=8, lambdarank_pair_method='topk',\n",
       "          learning_rate=None, max_bin=None, max_cat_threshold=None,\n",
       "          max_cat_to_onehot=None, max_delta_step=None, max_depth=None,\n",
       "          max_leaves=None, min_child_weight=None, missing=nan,\n",
       "          monotone_constraints=None, multi_strategy=None, n_estimators=None,\n",
       "          n_jobs=None, ...)"
      ]
     },
     "execution_count": 54,
     "metadata": {},
     "output_type": "execute_result"
    }
   ],
   "source": [
    "# model training\n",
    "\n",
    "ranker = xgb.XGBRanker(tree_method=\"hist\", lambdarank_num_pair_per_sample=8, objective=\"rank:ndcg\", lambdarank_pair_method=\"topk\")\n",
    "ranker.fit(X, y, qid=qid)"
   ]
  },
  {
   "cell_type": "code",
   "execution_count": 68,
   "metadata": {},
   "outputs": [
    {
     "name": "stdout",
     "output_type": "stream",
     "text": [
      "+----+-----------+------------+------------+-----------+------------+------------+------------+------------+------------+------------+------------+-----------+-----------+------------+-----------+------------+------------+-----------+------------+------------+-----+-------+-----------+\n",
      "|    |         0 |          1 |          2 |         3 |          4 |          5 |          6 |          7 |          8 |          9 |         10 |        11 |        12 |         13 |        14 |         15 |         16 |        17 |         18 |         19 |   y |   qid |    scores |\n",
      "+====+===========+============+============+===========+============+============+============+============+============+============+============+===========+===========+============+===========+============+============+===========+============+============+=====+=======+===========+\n",
      "|  0 |  1.21112  |  0.663858  |  0.344323  | -1.02793  |  1.16554   |  0.903031  | -1.80463   |  0.633436  |  0.159223  |  0.457997  |  0.413614  | -0.176121 |  0.156078 | -0.11388   |  0.942438 | -1.87078   |  0.509758  |  1.63681  | -0.647094  |  0.6611    |   1 |     0 |  0.942984 |\n",
      "+----+-----------+------------+------------+-----------+------------+------------+------------+------------+------------+------------+------------+-----------+-----------+------------+-----------+------------+------------+-----------+------------+------------+-----+-------+-----------+\n",
      "|  1 |  0.312536 | -0.157444  | -0.727414  | -0.127949 |  0.685562  |  0.32322   |  2.11585   | -0.0658403 | -1.1688    | -0.139753  |  0.0684266 |  0.454253 |  1.38129  | -1.41848   | -0.788472 | -0.369311  |  1.5152    | -1.47523  | -0.245875  | -2.623     |   1 |     0 |  1.81488  |\n",
      "+----+-----------+------------+------------+-----------+------------+------------+------------+------------+------------+------------+------------+-----------+-----------+------------+-----------+------------+------------+-----------+------------+------------+-----+-------+-----------+\n",
      "|  2 |  0.989419 | -1.41141   | -0.810399  | -0.852559 | -0.0920297 |  0.188658  | -0.905731  |  1.56633   |  0.449079  | -1.28692   |  0.85885   | -0.219545 | -0.279287 |  2.44456   |  0.288989 |  2.71036   | -0.345597  |  1.04112  | -0.710414  |  0.030951  |   0 |     0 | -1.55791  |\n",
      "+----+-----------+------------+------------+-----------+------------+------------+------------+------------+------------+------------+------------+-----------+-----------+------------+-----------+------------+------------+-----------+------------+------------+-----+-------+-----------+\n",
      "|  3 |  0.362018 |  1.43539   |  0.228927  | -0.353572 |  1.71143   | -0.952846  | -0.48131   | -0.425672  |  0.375605  |  0.0102815 |  0.0408434 |  0.572592 | -1.16752  |  0.755689  |  1.10446  | -0.0306589 | -1.12892   | -0.813061 |  1.09274   | -0.200172  |   0 |     0 | -1.62618  |\n",
      "+----+-----------+------------+------------+-----------+------------+------------+------------+------------+------------+------------+------------+-----------+-----------+------------+-----------+------------+------------+-----------+------------+------------+-----+-------+-----------+\n",
      "|  4 |  0.88064  |  0.172037  | -0.879813  |  0.431568 |  0.134097  |  0.058615  |  1.63896   | -0.636605  |  0.0706755 | -0.387815  | -0.421266  | -1.47257  | -1.36502  | -0.0158382 |  0.75771  |  1.61379   | -0.0325171 |  0.207703 |  0.11182   | -0.297385  |   1 |     0 |  1.45466  |\n",
      "+----+-----------+------------+------------+-----------+------------+------------+------------+------------+------------+------------+------------+-----------+-----------+------------+-----------+------------+------------+-----------+------------+------------+-----+-------+-----------+\n",
      "|  5 | -0.629157 | -0.807009  |  0.0465619 |  1.39589  |  0.534247  |  0.0676199 | -0.0497423 | -0.281439  |  0.0691341 | -1.0775    | -0.558173  |  1.17767  |  0.841641 |  1.71996   | -0.845081 | -0.844971  | -0.0240318 |  0.218763 | -1.67983   |  0.814007  |   1 |     0 |  1.37707  |\n",
      "+----+-----------+------------+------------+-----------+------------+------------+------------+------------+------------+------------+------------+-----------+-----------+------------+-----------+------------+------------+-----------+------------+------------+-----+-------+-----------+\n",
      "|  6 |  1.0655   | -0.980877  | -0.277959  |  0.353684 |  1.05405   |  0.136274  | -0.903308  | -1.51485   | -1.60728   | -0.297058  |  0.665982  | -0.228434 |  0.352079 | -0.0752613 |  0.364484 | -0.408311  |  1.85056   | -2.49592  | -0.0521653 | -1.81043   |   1 |     0 |  1.5763   |\n",
      "+----+-----------+------------+------------+-----------+------------+------------+------------+------------+------------+------------+------------+-----------+-----------+------------+-----------+------------+------------+-----------+------------+------------+-----+-------+-----------+\n",
      "|  7 | -0.117283 | -0.357837  |  0.706601  |  1.20914  | -0.211003  | -0.160276  |  0.381865  |  0.740141  |  0.948235  |  1.09738   |  1.92988   | -1.04393  |  0.960106 | -0.281171  |  2.30486  |  0.539785  | -1.15217   |  1.3514   | -0.892845  | -0.47449   |   0 |     0 | -1.55659  |\n",
      "+----+-----------+------------+------------+-----------+------------+------------+------------+------------+------------+------------+------------+-----------+-----------+------------+-----------+------------+------------+-----------+------------+------------+-----+-------+-----------+\n",
      "|  8 |  0.705927 | -0.0921027 |  0.345784  |  0.701667 | -0.188398  |  0.823577  | -0.165088  | -0.987543  | -0.397057  |  0.370473  |  0.487327  |  0.889386 | -1.24418  | -0.897432  |  1.00757  |  0.628218  |  1.05449   |  0.581005 |  0.994534  | -0.0507949 |   1 |     0 |  1.30302  |\n",
      "+----+-----------+------------+------------+-----------+------------+------------+------------+------------+------------+------------+------------+-----------+-----------+------------+-----------+------------+------------+-----------+------------+------------+-----+-------+-----------+\n",
      "|  9 | -0.23563  | -0.463504  |  1.29212   |  0.344858 |  0.232798  | -0.226225  |  0.668624  | -1.43903   |  0.731878  |  0.552335  | -0.235831  |  1.49153  | -0.185966 | -0.670318  | -0.996172 | -1.25467   | -0.966805  |  0.887621 |  2.41814   |  2.38891   |   0 |     0 | -1.62618  |\n",
      "+----+-----------+------------+------------+-----------+------------+------------+------------+------------+------------+------------+------------+-----------+-----------+------------+-----------+------------+------------+-----------+------------+------------+-----+-------+-----------+\n"
     ]
    }
   ],
   "source": [
    "# prediction\n",
    "\n",
    "scores=ranker.predict(X)\n",
    "df[\"scores\"] = scores\n",
    "print(tabulate(df.head(10), headers=\"keys\", tablefmt=\"grid\"))\n"
   ]
  },
  {
   "cell_type": "code",
   "execution_count": 72,
   "metadata": {},
   "outputs": [
    {
     "data": {
      "application/vnd.plotly.v1+json": {
       "config": {
        "plotlyServerURL": "https://plot.ly"
       },
       "data": [
        {
         "alignmentgroup": "True",
         "box": {
          "visible": true
         },
         "hovertemplate": "x=%{x}<br>y=%{y}<extra></extra>",
         "legendgroup": "",
         "marker": {
          "color": "#636efa"
         },
         "name": "",
         "offsetgroup": "",
         "orientation": "v",
         "scalegroup": "True",
         "showlegend": false,
         "type": "violin",
         "x": [
          "1",
          "1",
          "0",
          "0",
          "1",
          "1",
          "1",
          "0",
          "1",
          "0",
          "0",
          "0",
          "0",
          "0",
          "0",
          "1",
          "0",
          "0",
          "0",
          "1",
          "1",
          "1",
          "0",
          "0",
          "1",
          "0",
          "1",
          "1",
          "0",
          "1",
          "1",
          "0",
          "1",
          "0",
          "1",
          "1",
          "0",
          "0",
          "1",
          "0",
          "0",
          "0",
          "1",
          "0",
          "1",
          "1",
          "1",
          "1",
          "0",
          "1",
          "0",
          "1",
          "0",
          "0",
          "1",
          "1",
          "0",
          "0",
          "1",
          "0",
          "1",
          "0",
          "1",
          "0",
          "1",
          "1",
          "0",
          "1",
          "0",
          "0",
          "0",
          "0",
          "1",
          "0",
          "1",
          "0",
          "0",
          "0",
          "1",
          "1",
          "1",
          "0",
          "1",
          "1",
          "1",
          "1",
          "0",
          "0",
          "0",
          "1",
          "1",
          "1",
          "0",
          "1",
          "0",
          "1",
          "0",
          "0",
          "1",
          "1"
         ],
         "x0": " ",
         "xaxis": "x",
         "y": [
          0.9429836869239807,
          1.8148752450942993,
          -1.557909607887268,
          -1.6261790990829468,
          1.4546557664871216,
          1.377065658569336,
          1.5763038396835327,
          -1.556593418121338,
          1.303020715713501,
          -1.6261790990829468,
          -1.6261790990829468,
          -1.8565268516540527,
          -1.6261790990829468,
          -1.6261790990829468,
          -1.556593418121338,
          1.6329046487808228,
          -1.6261790990829468,
          -1.6261790990829468,
          -1.8565268516540527,
          1.3943332433700562,
          1.7372851371765137,
          0.5443578958511353,
          -1.4229508638381958,
          -1.6261790990829468,
          1.7372851371765137,
          -1.8565268516540527,
          1.0362035036087036,
          0.8752224445343018,
          -0.17611774802207947,
          1.124954342842102,
          1.216084361076355,
          -1.8565268516540527,
          -1.4229508638381958,
          -1.8565268516540527,
          1.6329046487808228,
          1.8148752450942993,
          -1.8565268516540527,
          -1.6261790990829468,
          1.7372851371765137,
          -1.8565268516540527,
          -1.8565268516540527,
          -1.8565268516540527,
          1.5417746305465698,
          -1.761137843132019,
          1.1352683305740356,
          1.7372851371765137,
          0.9318230748176575,
          0.3623872995376587,
          -1.556593418121338,
          -1.3533650636672974,
          -1.8565268516540527,
          1.7104947566986084,
          -1.6532986164093018,
          -1.6261790990829468,
          0.9227193593978882,
          1.613408088684082,
          -1.8565268516540527,
          -1.8565268516540527,
          1.0362035036087036,
          -1.6532986164093018,
          0.4399774670600891,
          -1.6261790990829468,
          1.4723776578903198,
          -1.761137843132019,
          0.992143452167511,
          1.2762302160263062,
          0.18410177528858185,
          0.4399774670600891,
          -1.6261790990829468,
          -1.6261790990829468,
          -1.8565268516540527,
          -1.265959620475769,
          0.9318230748176575,
          -1.761137843132019,
          -1.4229508638381958,
          -1.3533650636672974,
          -1.6261790990829468,
          -1.6532986164093018,
          1.6079280376434326,
          1.239648699760437,
          1.596254587173462,
          -1.8565268516540527,
          1.3943332433700562,
          1.8148752450942993,
          1.285935640335083,
          0.9318230748176575,
          -1.8565268516540527,
          -1.556593418121338,
          -0.17611774802207947,
          1.3740689754486084,
          1.8148752450942993,
          1.7372851371765137,
          -1.6261790990829468,
          0.23117375373840332,
          -1.6261790990829468,
          1.1137937307357788,
          -1.6261790990829468,
          -1.6261790990829468,
          0.06245356425642967,
          1.0362035036087036
         ],
         "y0": " ",
         "yaxis": "y"
        }
       ],
       "layout": {
        "legend": {
         "tracegroupgap": 0
        },
        "margin": {
         "t": 60
        },
        "template": {
         "data": {
          "bar": [
           {
            "error_x": {
             "color": "#2a3f5f"
            },
            "error_y": {
             "color": "#2a3f5f"
            },
            "marker": {
             "line": {
              "color": "#E5ECF6",
              "width": 0.5
             },
             "pattern": {
              "fillmode": "overlay",
              "size": 10,
              "solidity": 0.2
             }
            },
            "type": "bar"
           }
          ],
          "barpolar": [
           {
            "marker": {
             "line": {
              "color": "#E5ECF6",
              "width": 0.5
             },
             "pattern": {
              "fillmode": "overlay",
              "size": 10,
              "solidity": 0.2
             }
            },
            "type": "barpolar"
           }
          ],
          "carpet": [
           {
            "aaxis": {
             "endlinecolor": "#2a3f5f",
             "gridcolor": "white",
             "linecolor": "white",
             "minorgridcolor": "white",
             "startlinecolor": "#2a3f5f"
            },
            "baxis": {
             "endlinecolor": "#2a3f5f",
             "gridcolor": "white",
             "linecolor": "white",
             "minorgridcolor": "white",
             "startlinecolor": "#2a3f5f"
            },
            "type": "carpet"
           }
          ],
          "choropleth": [
           {
            "colorbar": {
             "outlinewidth": 0,
             "ticks": ""
            },
            "type": "choropleth"
           }
          ],
          "contour": [
           {
            "colorbar": {
             "outlinewidth": 0,
             "ticks": ""
            },
            "colorscale": [
             [
              0,
              "#0d0887"
             ],
             [
              0.1111111111111111,
              "#46039f"
             ],
             [
              0.2222222222222222,
              "#7201a8"
             ],
             [
              0.3333333333333333,
              "#9c179e"
             ],
             [
              0.4444444444444444,
              "#bd3786"
             ],
             [
              0.5555555555555556,
              "#d8576b"
             ],
             [
              0.6666666666666666,
              "#ed7953"
             ],
             [
              0.7777777777777778,
              "#fb9f3a"
             ],
             [
              0.8888888888888888,
              "#fdca26"
             ],
             [
              1,
              "#f0f921"
             ]
            ],
            "type": "contour"
           }
          ],
          "contourcarpet": [
           {
            "colorbar": {
             "outlinewidth": 0,
             "ticks": ""
            },
            "type": "contourcarpet"
           }
          ],
          "heatmap": [
           {
            "colorbar": {
             "outlinewidth": 0,
             "ticks": ""
            },
            "colorscale": [
             [
              0,
              "#0d0887"
             ],
             [
              0.1111111111111111,
              "#46039f"
             ],
             [
              0.2222222222222222,
              "#7201a8"
             ],
             [
              0.3333333333333333,
              "#9c179e"
             ],
             [
              0.4444444444444444,
              "#bd3786"
             ],
             [
              0.5555555555555556,
              "#d8576b"
             ],
             [
              0.6666666666666666,
              "#ed7953"
             ],
             [
              0.7777777777777778,
              "#fb9f3a"
             ],
             [
              0.8888888888888888,
              "#fdca26"
             ],
             [
              1,
              "#f0f921"
             ]
            ],
            "type": "heatmap"
           }
          ],
          "heatmapgl": [
           {
            "colorbar": {
             "outlinewidth": 0,
             "ticks": ""
            },
            "colorscale": [
             [
              0,
              "#0d0887"
             ],
             [
              0.1111111111111111,
              "#46039f"
             ],
             [
              0.2222222222222222,
              "#7201a8"
             ],
             [
              0.3333333333333333,
              "#9c179e"
             ],
             [
              0.4444444444444444,
              "#bd3786"
             ],
             [
              0.5555555555555556,
              "#d8576b"
             ],
             [
              0.6666666666666666,
              "#ed7953"
             ],
             [
              0.7777777777777778,
              "#fb9f3a"
             ],
             [
              0.8888888888888888,
              "#fdca26"
             ],
             [
              1,
              "#f0f921"
             ]
            ],
            "type": "heatmapgl"
           }
          ],
          "histogram": [
           {
            "marker": {
             "pattern": {
              "fillmode": "overlay",
              "size": 10,
              "solidity": 0.2
             }
            },
            "type": "histogram"
           }
          ],
          "histogram2d": [
           {
            "colorbar": {
             "outlinewidth": 0,
             "ticks": ""
            },
            "colorscale": [
             [
              0,
              "#0d0887"
             ],
             [
              0.1111111111111111,
              "#46039f"
             ],
             [
              0.2222222222222222,
              "#7201a8"
             ],
             [
              0.3333333333333333,
              "#9c179e"
             ],
             [
              0.4444444444444444,
              "#bd3786"
             ],
             [
              0.5555555555555556,
              "#d8576b"
             ],
             [
              0.6666666666666666,
              "#ed7953"
             ],
             [
              0.7777777777777778,
              "#fb9f3a"
             ],
             [
              0.8888888888888888,
              "#fdca26"
             ],
             [
              1,
              "#f0f921"
             ]
            ],
            "type": "histogram2d"
           }
          ],
          "histogram2dcontour": [
           {
            "colorbar": {
             "outlinewidth": 0,
             "ticks": ""
            },
            "colorscale": [
             [
              0,
              "#0d0887"
             ],
             [
              0.1111111111111111,
              "#46039f"
             ],
             [
              0.2222222222222222,
              "#7201a8"
             ],
             [
              0.3333333333333333,
              "#9c179e"
             ],
             [
              0.4444444444444444,
              "#bd3786"
             ],
             [
              0.5555555555555556,
              "#d8576b"
             ],
             [
              0.6666666666666666,
              "#ed7953"
             ],
             [
              0.7777777777777778,
              "#fb9f3a"
             ],
             [
              0.8888888888888888,
              "#fdca26"
             ],
             [
              1,
              "#f0f921"
             ]
            ],
            "type": "histogram2dcontour"
           }
          ],
          "mesh3d": [
           {
            "colorbar": {
             "outlinewidth": 0,
             "ticks": ""
            },
            "type": "mesh3d"
           }
          ],
          "parcoords": [
           {
            "line": {
             "colorbar": {
              "outlinewidth": 0,
              "ticks": ""
             }
            },
            "type": "parcoords"
           }
          ],
          "pie": [
           {
            "automargin": true,
            "type": "pie"
           }
          ],
          "scatter": [
           {
            "fillpattern": {
             "fillmode": "overlay",
             "size": 10,
             "solidity": 0.2
            },
            "type": "scatter"
           }
          ],
          "scatter3d": [
           {
            "line": {
             "colorbar": {
              "outlinewidth": 0,
              "ticks": ""
             }
            },
            "marker": {
             "colorbar": {
              "outlinewidth": 0,
              "ticks": ""
             }
            },
            "type": "scatter3d"
           }
          ],
          "scattercarpet": [
           {
            "marker": {
             "colorbar": {
              "outlinewidth": 0,
              "ticks": ""
             }
            },
            "type": "scattercarpet"
           }
          ],
          "scattergeo": [
           {
            "marker": {
             "colorbar": {
              "outlinewidth": 0,
              "ticks": ""
             }
            },
            "type": "scattergeo"
           }
          ],
          "scattergl": [
           {
            "marker": {
             "colorbar": {
              "outlinewidth": 0,
              "ticks": ""
             }
            },
            "type": "scattergl"
           }
          ],
          "scattermapbox": [
           {
            "marker": {
             "colorbar": {
              "outlinewidth": 0,
              "ticks": ""
             }
            },
            "type": "scattermapbox"
           }
          ],
          "scatterpolar": [
           {
            "marker": {
             "colorbar": {
              "outlinewidth": 0,
              "ticks": ""
             }
            },
            "type": "scatterpolar"
           }
          ],
          "scatterpolargl": [
           {
            "marker": {
             "colorbar": {
              "outlinewidth": 0,
              "ticks": ""
             }
            },
            "type": "scatterpolargl"
           }
          ],
          "scatterternary": [
           {
            "marker": {
             "colorbar": {
              "outlinewidth": 0,
              "ticks": ""
             }
            },
            "type": "scatterternary"
           }
          ],
          "surface": [
           {
            "colorbar": {
             "outlinewidth": 0,
             "ticks": ""
            },
            "colorscale": [
             [
              0,
              "#0d0887"
             ],
             [
              0.1111111111111111,
              "#46039f"
             ],
             [
              0.2222222222222222,
              "#7201a8"
             ],
             [
              0.3333333333333333,
              "#9c179e"
             ],
             [
              0.4444444444444444,
              "#bd3786"
             ],
             [
              0.5555555555555556,
              "#d8576b"
             ],
             [
              0.6666666666666666,
              "#ed7953"
             ],
             [
              0.7777777777777778,
              "#fb9f3a"
             ],
             [
              0.8888888888888888,
              "#fdca26"
             ],
             [
              1,
              "#f0f921"
             ]
            ],
            "type": "surface"
           }
          ],
          "table": [
           {
            "cells": {
             "fill": {
              "color": "#EBF0F8"
             },
             "line": {
              "color": "white"
             }
            },
            "header": {
             "fill": {
              "color": "#C8D4E3"
             },
             "line": {
              "color": "white"
             }
            },
            "type": "table"
           }
          ]
         },
         "layout": {
          "annotationdefaults": {
           "arrowcolor": "#2a3f5f",
           "arrowhead": 0,
           "arrowwidth": 1
          },
          "autotypenumbers": "strict",
          "coloraxis": {
           "colorbar": {
            "outlinewidth": 0,
            "ticks": ""
           }
          },
          "colorscale": {
           "diverging": [
            [
             0,
             "#8e0152"
            ],
            [
             0.1,
             "#c51b7d"
            ],
            [
             0.2,
             "#de77ae"
            ],
            [
             0.3,
             "#f1b6da"
            ],
            [
             0.4,
             "#fde0ef"
            ],
            [
             0.5,
             "#f7f7f7"
            ],
            [
             0.6,
             "#e6f5d0"
            ],
            [
             0.7,
             "#b8e186"
            ],
            [
             0.8,
             "#7fbc41"
            ],
            [
             0.9,
             "#4d9221"
            ],
            [
             1,
             "#276419"
            ]
           ],
           "sequential": [
            [
             0,
             "#0d0887"
            ],
            [
             0.1111111111111111,
             "#46039f"
            ],
            [
             0.2222222222222222,
             "#7201a8"
            ],
            [
             0.3333333333333333,
             "#9c179e"
            ],
            [
             0.4444444444444444,
             "#bd3786"
            ],
            [
             0.5555555555555556,
             "#d8576b"
            ],
            [
             0.6666666666666666,
             "#ed7953"
            ],
            [
             0.7777777777777778,
             "#fb9f3a"
            ],
            [
             0.8888888888888888,
             "#fdca26"
            ],
            [
             1,
             "#f0f921"
            ]
           ],
           "sequentialminus": [
            [
             0,
             "#0d0887"
            ],
            [
             0.1111111111111111,
             "#46039f"
            ],
            [
             0.2222222222222222,
             "#7201a8"
            ],
            [
             0.3333333333333333,
             "#9c179e"
            ],
            [
             0.4444444444444444,
             "#bd3786"
            ],
            [
             0.5555555555555556,
             "#d8576b"
            ],
            [
             0.6666666666666666,
             "#ed7953"
            ],
            [
             0.7777777777777778,
             "#fb9f3a"
            ],
            [
             0.8888888888888888,
             "#fdca26"
            ],
            [
             1,
             "#f0f921"
            ]
           ]
          },
          "colorway": [
           "#636efa",
           "#EF553B",
           "#00cc96",
           "#ab63fa",
           "#FFA15A",
           "#19d3f3",
           "#FF6692",
           "#B6E880",
           "#FF97FF",
           "#FECB52"
          ],
          "font": {
           "color": "#2a3f5f"
          },
          "geo": {
           "bgcolor": "white",
           "lakecolor": "white",
           "landcolor": "#E5ECF6",
           "showlakes": true,
           "showland": true,
           "subunitcolor": "white"
          },
          "hoverlabel": {
           "align": "left"
          },
          "hovermode": "closest",
          "mapbox": {
           "style": "light"
          },
          "paper_bgcolor": "white",
          "plot_bgcolor": "#E5ECF6",
          "polar": {
           "angularaxis": {
            "gridcolor": "white",
            "linecolor": "white",
            "ticks": ""
           },
           "bgcolor": "#E5ECF6",
           "radialaxis": {
            "gridcolor": "white",
            "linecolor": "white",
            "ticks": ""
           }
          },
          "scene": {
           "xaxis": {
            "backgroundcolor": "#E5ECF6",
            "gridcolor": "white",
            "gridwidth": 2,
            "linecolor": "white",
            "showbackground": true,
            "ticks": "",
            "zerolinecolor": "white"
           },
           "yaxis": {
            "backgroundcolor": "#E5ECF6",
            "gridcolor": "white",
            "gridwidth": 2,
            "linecolor": "white",
            "showbackground": true,
            "ticks": "",
            "zerolinecolor": "white"
           },
           "zaxis": {
            "backgroundcolor": "#E5ECF6",
            "gridcolor": "white",
            "gridwidth": 2,
            "linecolor": "white",
            "showbackground": true,
            "ticks": "",
            "zerolinecolor": "white"
           }
          },
          "shapedefaults": {
           "line": {
            "color": "#2a3f5f"
           }
          },
          "ternary": {
           "aaxis": {
            "gridcolor": "white",
            "linecolor": "white",
            "ticks": ""
           },
           "baxis": {
            "gridcolor": "white",
            "linecolor": "white",
            "ticks": ""
           },
           "bgcolor": "#E5ECF6",
           "caxis": {
            "gridcolor": "white",
            "linecolor": "white",
            "ticks": ""
           }
          },
          "title": {
           "x": 0.05
          },
          "xaxis": {
           "automargin": true,
           "gridcolor": "white",
           "linecolor": "white",
           "ticks": "",
           "title": {
            "standoff": 15
           },
           "zerolinecolor": "white",
           "zerolinewidth": 2
          },
          "yaxis": {
           "automargin": true,
           "gridcolor": "white",
           "linecolor": "white",
           "ticks": "",
           "title": {
            "standoff": 15
           },
           "zerolinecolor": "white",
           "zerolinewidth": 2
          }
         }
        },
        "violinmode": "group",
        "xaxis": {
         "anchor": "y",
         "domain": [
          0,
          1
         ],
         "title": {
          "text": "x"
         }
        },
        "yaxis": {
         "anchor": "x",
         "domain": [
          0,
          1
         ],
         "title": {
          "text": "y"
         }
        }
       }
      }
     },
     "metadata": {},
     "output_type": "display_data"
    }
   ],
   "source": [
    "# check prediction accuracy\n",
    "\n",
    "df[\"y\"] = df[\"y\"].astype(str)\n",
    "fig = px.violin(x=df[\"y\"], y=df[\"scores\"], box=True)\n",
    "fig.show()"
   ]
  },
  {
   "cell_type": "markdown",
   "metadata": {},
   "source": [
    "## classification model"
   ]
  },
  {
   "cell_type": "code",
   "execution_count": 74,
   "metadata": {},
   "outputs": [
    {
     "data": {
      "text/html": [
       "<style>#sk-container-id-2 {color: black;background-color: white;}#sk-container-id-2 pre{padding: 0;}#sk-container-id-2 div.sk-toggleable {background-color: white;}#sk-container-id-2 label.sk-toggleable__label {cursor: pointer;display: block;width: 100%;margin-bottom: 0;padding: 0.3em;box-sizing: border-box;text-align: center;}#sk-container-id-2 label.sk-toggleable__label-arrow:before {content: \"▸\";float: left;margin-right: 0.25em;color: #696969;}#sk-container-id-2 label.sk-toggleable__label-arrow:hover:before {color: black;}#sk-container-id-2 div.sk-estimator:hover label.sk-toggleable__label-arrow:before {color: black;}#sk-container-id-2 div.sk-toggleable__content {max-height: 0;max-width: 0;overflow: hidden;text-align: left;background-color: #f0f8ff;}#sk-container-id-2 div.sk-toggleable__content pre {margin: 0.2em;color: black;border-radius: 0.25em;background-color: #f0f8ff;}#sk-container-id-2 input.sk-toggleable__control:checked~div.sk-toggleable__content {max-height: 200px;max-width: 100%;overflow: auto;}#sk-container-id-2 input.sk-toggleable__control:checked~label.sk-toggleable__label-arrow:before {content: \"▾\";}#sk-container-id-2 div.sk-estimator input.sk-toggleable__control:checked~label.sk-toggleable__label {background-color: #d4ebff;}#sk-container-id-2 div.sk-label input.sk-toggleable__control:checked~label.sk-toggleable__label {background-color: #d4ebff;}#sk-container-id-2 input.sk-hidden--visually {border: 0;clip: rect(1px 1px 1px 1px);clip: rect(1px, 1px, 1px, 1px);height: 1px;margin: -1px;overflow: hidden;padding: 0;position: absolute;width: 1px;}#sk-container-id-2 div.sk-estimator {font-family: monospace;background-color: #f0f8ff;border: 1px dotted black;border-radius: 0.25em;box-sizing: border-box;margin-bottom: 0.5em;}#sk-container-id-2 div.sk-estimator:hover {background-color: #d4ebff;}#sk-container-id-2 div.sk-parallel-item::after {content: \"\";width: 100%;border-bottom: 1px solid gray;flex-grow: 1;}#sk-container-id-2 div.sk-label:hover label.sk-toggleable__label {background-color: #d4ebff;}#sk-container-id-2 div.sk-serial::before {content: \"\";position: absolute;border-left: 1px solid gray;box-sizing: border-box;top: 0;bottom: 0;left: 50%;z-index: 0;}#sk-container-id-2 div.sk-serial {display: flex;flex-direction: column;align-items: center;background-color: white;padding-right: 0.2em;padding-left: 0.2em;position: relative;}#sk-container-id-2 div.sk-item {position: relative;z-index: 1;}#sk-container-id-2 div.sk-parallel {display: flex;align-items: stretch;justify-content: center;background-color: white;position: relative;}#sk-container-id-2 div.sk-item::before, #sk-container-id-2 div.sk-parallel-item::before {content: \"\";position: absolute;border-left: 1px solid gray;box-sizing: border-box;top: 0;bottom: 0;left: 50%;z-index: -1;}#sk-container-id-2 div.sk-parallel-item {display: flex;flex-direction: column;z-index: 1;position: relative;background-color: white;}#sk-container-id-2 div.sk-parallel-item:first-child::after {align-self: flex-end;width: 50%;}#sk-container-id-2 div.sk-parallel-item:last-child::after {align-self: flex-start;width: 50%;}#sk-container-id-2 div.sk-parallel-item:only-child::after {width: 0;}#sk-container-id-2 div.sk-dashed-wrapped {border: 1px dashed gray;margin: 0 0.4em 0.5em 0.4em;box-sizing: border-box;padding-bottom: 0.4em;background-color: white;}#sk-container-id-2 div.sk-label label {font-family: monospace;font-weight: bold;display: inline-block;line-height: 1.2em;}#sk-container-id-2 div.sk-label-container {text-align: center;}#sk-container-id-2 div.sk-container {/* jupyter's `normalize.less` sets `[hidden] { display: none; }` but bootstrap.min.css set `[hidden] { display: none !important; }` so we also need the `!important` here to be able to override the default hidden behavior on the sphinx rendered scikit-learn.org. See: https://github.com/scikit-learn/scikit-learn/issues/21755 */display: inline-block !important;position: relative;}#sk-container-id-2 div.sk-text-repr-fallback {display: none;}</style><div id=\"sk-container-id-2\" class=\"sk-top-container\"><div class=\"sk-text-repr-fallback\"><pre>XGBClassifier(base_score=None, booster=None, callbacks=None,\n",
       "              colsample_bylevel=None, colsample_bynode=None,\n",
       "              colsample_bytree=None, device=None, early_stopping_rounds=None,\n",
       "              enable_categorical=False, eval_metric=None, feature_types=None,\n",
       "              gamma=None, grow_policy=None, importance_type=None,\n",
       "              interaction_constraints=None, learning_rate=None, max_bin=None,\n",
       "              max_cat_threshold=None, max_cat_to_onehot=None,\n",
       "              max_delta_step=None, max_depth=None, max_leaves=None,\n",
       "              min_child_weight=None, missing=nan, monotone_constraints=None,\n",
       "              multi_strategy=None, n_estimators=None, n_jobs=None,\n",
       "              num_parallel_tree=None, random_state=None, ...)</pre><b>In a Jupyter environment, please rerun this cell to show the HTML representation or trust the notebook. <br />On GitHub, the HTML representation is unable to render, please try loading this page with nbviewer.org.</b></div><div class=\"sk-container\" hidden><div class=\"sk-item\"><div class=\"sk-estimator sk-toggleable\"><input class=\"sk-toggleable__control sk-hidden--visually\" id=\"sk-estimator-id-2\" type=\"checkbox\" checked><label for=\"sk-estimator-id-2\" class=\"sk-toggleable__label sk-toggleable__label-arrow\">XGBClassifier</label><div class=\"sk-toggleable__content\"><pre>XGBClassifier(base_score=None, booster=None, callbacks=None,\n",
       "              colsample_bylevel=None, colsample_bynode=None,\n",
       "              colsample_bytree=None, device=None, early_stopping_rounds=None,\n",
       "              enable_categorical=False, eval_metric=None, feature_types=None,\n",
       "              gamma=None, grow_policy=None, importance_type=None,\n",
       "              interaction_constraints=None, learning_rate=None, max_bin=None,\n",
       "              max_cat_threshold=None, max_cat_to_onehot=None,\n",
       "              max_delta_step=None, max_depth=None, max_leaves=None,\n",
       "              min_child_weight=None, missing=nan, monotone_constraints=None,\n",
       "              multi_strategy=None, n_estimators=None, n_jobs=None,\n",
       "              num_parallel_tree=None, random_state=None, ...)</pre></div></div></div></div></div>"
      ],
      "text/plain": [
       "XGBClassifier(base_score=None, booster=None, callbacks=None,\n",
       "              colsample_bylevel=None, colsample_bynode=None,\n",
       "              colsample_bytree=None, device=None, early_stopping_rounds=None,\n",
       "              enable_categorical=False, eval_metric=None, feature_types=None,\n",
       "              gamma=None, grow_policy=None, importance_type=None,\n",
       "              interaction_constraints=None, learning_rate=None, max_bin=None,\n",
       "              max_cat_threshold=None, max_cat_to_onehot=None,\n",
       "              max_delta_step=None, max_depth=None, max_leaves=None,\n",
       "              min_child_weight=None, missing=nan, monotone_constraints=None,\n",
       "              multi_strategy=None, n_estimators=None, n_jobs=None,\n",
       "              num_parallel_tree=None, random_state=None, ...)"
      ]
     },
     "execution_count": 74,
     "metadata": {},
     "output_type": "execute_result"
    }
   ],
   "source": [
    "classifier = xgb.XGBClassifier()\n",
    "classifier.fit(X, y)"
   ]
  },
  {
   "cell_type": "code",
   "execution_count": 78,
   "metadata": {},
   "outputs": [
    {
     "name": "stdout",
     "output_type": "stream",
     "text": [
      "+----+-----------+------------+------------+-----------+------------+------------+------------+------------+------------+------------+------------+-----------+-----------+------------+-----------+------------+------------+-----------+------------+------------+-----+-------+-----------+-----------+\n",
      "|    |         0 |          1 |          2 |         3 |          4 |          5 |          6 |          7 |          8 |          9 |         10 |        11 |        12 |         13 |        14 |         15 |         16 |        17 |         18 |         19 |   y |   qid |    scores |      pred |\n",
      "+====+===========+============+============+===========+============+============+============+============+============+============+============+===========+===========+============+===========+============+============+===========+============+============+=====+=======+===========+===========+\n",
      "|  0 |  1.21112  |  0.663858  |  0.344323  | -1.02793  |  1.16554   |  0.903031  | -1.80463   |  0.633436  |  0.159223  |  0.457997  |  0.413614  | -0.176121 |  0.156078 | -0.11388   |  0.942438 | -1.87078   |  0.509758  |  1.63681  | -0.647094  |  0.6611    |   1 |     0 |  0.942984 | 0.968692  |\n",
      "+----+-----------+------------+------------+-----------+------------+------------+------------+------------+------------+------------+------------+-----------+-----------+------------+-----------+------------+------------+-----------+------------+------------+-----+-------+-----------+-----------+\n",
      "|  1 |  0.312536 | -0.157444  | -0.727414  | -0.127949 |  0.685562  |  0.32322   |  2.11585   | -0.0658403 | -1.1688    | -0.139753  |  0.0684266 |  0.454253 |  1.38129  | -1.41848   | -0.788472 | -0.369311  |  1.5152    | -1.47523  | -0.245875  | -2.623     |   1 |     0 |  1.81488  | 0.998523  |\n",
      "+----+-----------+------------+------------+-----------+------------+------------+------------+------------+------------+------------+------------+-----------+-----------+------------+-----------+------------+------------+-----------+------------+------------+-----+-------+-----------+-----------+\n",
      "|  2 |  0.989419 | -1.41141   | -0.810399  | -0.852559 | -0.0920297 |  0.188658  | -0.905731  |  1.56633   |  0.449079  | -1.28692   |  0.85885   | -0.219545 | -0.279287 |  2.44456   |  0.288989 |  2.71036   | -0.345597  |  1.04112  | -0.710414  |  0.030951  |   0 |     0 | -1.55791  | 0.0882711 |\n",
      "+----+-----------+------------+------------+-----------+------------+------------+------------+------------+------------+------------+------------+-----------+-----------+------------+-----------+------------+------------+-----------+------------+------------+-----+-------+-----------+-----------+\n",
      "|  3 |  0.362018 |  1.43539   |  0.228927  | -0.353572 |  1.71143   | -0.952846  | -0.48131   | -0.425672  |  0.375605  |  0.0102815 |  0.0408434 |  0.572592 | -1.16752  |  0.755689  |  1.10446  | -0.0306589 | -1.12892   | -0.813061 |  1.09274   | -0.200172  |   0 |     0 | -1.62618  | 0.0186866 |\n",
      "+----+-----------+------------+------------+-----------+------------+------------+------------+------------+------------+------------+------------+-----------+-----------+------------+-----------+------------+------------+-----------+------------+------------+-----+-------+-----------+-----------+\n",
      "|  4 |  0.88064  |  0.172037  | -0.879813  |  0.431568 |  0.134097  |  0.058615  |  1.63896   | -0.636605  |  0.0706755 | -0.387815  | -0.421266  | -1.47257  | -1.36502  | -0.0158382 |  0.75771  |  1.61379   | -0.0325171 |  0.207703 |  0.11182   | -0.297385  |   1 |     0 |  1.45466  | 0.997444  |\n",
      "+----+-----------+------------+------------+-----------+------------+------------+------------+------------+------------+------------+------------+-----------+-----------+------------+-----------+------------+------------+-----------+------------+------------+-----+-------+-----------+-----------+\n",
      "|  5 | -0.629157 | -0.807009  |  0.0465619 |  1.39589  |  0.534247  |  0.0676199 | -0.0497423 | -0.281439  |  0.0691341 | -1.0775    | -0.558173  |  1.17767  |  0.841641 |  1.71996   | -0.845081 | -0.844971  | -0.0240318 |  0.218763 | -1.67983   |  0.814007  |   1 |     0 |  1.37707  | 0.994859  |\n",
      "+----+-----------+------------+------------+-----------+------------+------------+------------+------------+------------+------------+------------+-----------+-----------+------------+-----------+------------+------------+-----------+------------+------------+-----+-------+-----------+-----------+\n",
      "|  6 |  1.0655   | -0.980877  | -0.277959  |  0.353684 |  1.05405   |  0.136274  | -0.903308  | -1.51485   | -1.60728   | -0.297058  |  0.665982  | -0.228434 |  0.352079 | -0.0752613 |  0.364484 | -0.408311  |  1.85056   | -2.49592  | -0.0521653 | -1.81043   |   1 |     0 |  1.5763   | 0.975316  |\n",
      "+----+-----------+------------+------------+-----------+------------+------------+------------+------------+------------+------------+------------+-----------+-----------+------------+-----------+------------+------------+-----------+------------+------------+-----+-------+-----------+-----------+\n",
      "|  7 | -0.117283 | -0.357837  |  0.706601  |  1.20914  | -0.211003  | -0.160276  |  0.381865  |  0.740141  |  0.948235  |  1.09738   |  1.92988   | -1.04393  |  0.960106 | -0.281171  |  2.30486  |  0.539785  | -1.15217   |  1.3514   | -0.892845  | -0.47449   |   0 |     0 | -1.55659  | 0.0115001 |\n",
      "+----+-----------+------------+------------+-----------+------------+------------+------------+------------+------------+------------+------------+-----------+-----------+------------+-----------+------------+------------+-----------+------------+------------+-----+-------+-----------+-----------+\n",
      "|  8 |  0.705927 | -0.0921027 |  0.345784  |  0.701667 | -0.188398  |  0.823577  | -0.165088  | -0.987543  | -0.397057  |  0.370473  |  0.487327  |  0.889386 | -1.24418  | -0.897432  |  1.00757  |  0.628218  |  1.05449   |  0.581005 |  0.994534  | -0.0507949 |   1 |     0 |  1.30302  | 0.996425  |\n",
      "+----+-----------+------------+------------+-----------+------------+------------+------------+------------+------------+------------+------------+-----------+-----------+------------+-----------+------------+------------+-----------+------------+------------+-----+-------+-----------+-----------+\n",
      "|  9 | -0.23563  | -0.463504  |  1.29212   |  0.344858 |  0.232798  | -0.226225  |  0.668624  | -1.43903   |  0.731878  |  0.552335  | -0.235831  |  1.49153  | -0.185966 | -0.670318  | -0.996172 | -1.25467   | -0.966805  |  0.887621 |  2.41814   |  2.38891   |   0 |     0 | -1.62618  | 0.0158089 |\n",
      "+----+-----------+------------+------------+-----------+------------+------------+------------+------------+------------+------------+------------+-----------+-----------+------------+-----------+------------+------------+-----------+------------+------------+-----+-------+-----------+-----------+\n"
     ]
    }
   ],
   "source": [
    "# prediction\n",
    "\n",
    "pred=classifier.predict_proba(X)[:,1]\n",
    "df[\"pred\"] = pred\n",
    "print(tabulate(df.head(10), headers=\"keys\", tablefmt=\"grid\"))\n"
   ]
  },
  {
   "cell_type": "code",
   "execution_count": 79,
   "metadata": {},
   "outputs": [
    {
     "data": {
      "application/vnd.plotly.v1+json": {
       "config": {
        "plotlyServerURL": "https://plot.ly"
       },
       "data": [
        {
         "alignmentgroup": "True",
         "box": {
          "visible": true
         },
         "hovertemplate": "x=%{x}<br>y=%{y}<extra></extra>",
         "legendgroup": "",
         "marker": {
          "color": "#636efa"
         },
         "name": "",
         "offsetgroup": "",
         "orientation": "v",
         "scalegroup": "True",
         "showlegend": false,
         "type": "violin",
         "x": [
          "1",
          "1",
          "0",
          "0",
          "1",
          "1",
          "1",
          "0",
          "1",
          "0",
          "0",
          "0",
          "0",
          "0",
          "0",
          "1",
          "0",
          "0",
          "0",
          "1",
          "1",
          "1",
          "0",
          "0",
          "1",
          "0",
          "1",
          "1",
          "0",
          "1",
          "1",
          "0",
          "1",
          "0",
          "1",
          "1",
          "0",
          "0",
          "1",
          "0",
          "0",
          "0",
          "1",
          "0",
          "1",
          "1",
          "1",
          "1",
          "0",
          "1",
          "0",
          "1",
          "0",
          "0",
          "1",
          "1",
          "0",
          "0",
          "1",
          "0",
          "1",
          "0",
          "1",
          "0",
          "1",
          "1",
          "0",
          "1",
          "0",
          "0",
          "0",
          "0",
          "1",
          "0",
          "1",
          "0",
          "0",
          "0",
          "1",
          "1",
          "1",
          "0",
          "1",
          "1",
          "1",
          "1",
          "0",
          "0",
          "0",
          "1",
          "1",
          "1",
          "0",
          "1",
          "0",
          "1",
          "0",
          "0",
          "1",
          "1"
         ],
         "x0": " ",
         "xaxis": "x",
         "y": [
          0.9686916470527649,
          0.9985226988792419,
          0.0882711336016655,
          0.018686575815081596,
          0.9974435567855835,
          0.9948590993881226,
          0.9753164649009705,
          0.011500063352286816,
          0.9964247345924377,
          0.01580885425209999,
          0.009712520986795425,
          0.002113944385200739,
          0.020718147978186607,
          0.011292221024632454,
          0.009829920716583729,
          0.9948941469192505,
          0.010030427016317844,
          0.008268660865724087,
          0.00388719723559916,
          0.9774701595306396,
          0.99669349193573,
          0.9972746968269348,
          0.015373229049146175,
          0.006715758703649044,
          0.9970260262489319,
          0.005168635863810778,
          0.9553808569908142,
          0.9712845683097839,
          0.1795511245727539,
          0.9822099208831787,
          0.9827077984809875,
          0.0037711902987211943,
          0.8853015899658203,
          0.005229355301707983,
          0.9913877844810486,
          0.9978815913200378,
          0.002421042649075389,
          0.004822139628231525,
          0.996991753578186,
          0.0033589208032935858,
          0.007890192791819572,
          0.004979672376066446,
          0.9953768253326416,
          0.014271995984017849,
          0.9963447451591492,
          0.9956733584403992,
          0.9625648260116577,
          0.9323079586029053,
          0.004389808047562838,
          0.8954135179519653,
          0.0033589208032935858,
          0.9988204836845398,
          0.048529163002967834,
          0.016829678788781166,
          0.995671272277832,
          0.9936873316764832,
          0.0032040271908044815,
          0.0024760717060416937,
          0.9204890131950378,
          0.03833325579762459,
          0.9511067867279053,
          0.006617928389459848,
          0.9977428913116455,
          0.009943091310560703,
          0.9943764209747314,
          0.9956364035606384,
          0.11039843410253525,
          0.9705373048782349,
          0.02128356695175171,
          0.020959220826625824,
          0.004094473551958799,
          0.020017389208078384,
          0.9890467524528503,
          0.005275399889796972,
          0.840971827507019,
          0.007860257290303707,
          0.011467245407402515,
          0.04003830999135971,
          0.9984548091888428,
          0.9972746968269348,
          0.9972746968269348,
          0.004252952989190817,
          0.9729496240615845,
          0.9976223111152649,
          0.99471515417099,
          0.9943321943283081,
          0.008330128155648708,
          0.0034193338360637426,
          0.17819030582904816,
          0.991413950920105,
          0.9971091151237488,
          0.996991753578186,
          0.009197373874485493,
          0.9964777827262878,
          0.017552141100168228,
          0.9814496040344238,
          0.0052915289998054504,
          0.018898049369454384,
          0.9658204317092896,
          0.9507032632827759
         ],
         "y0": " ",
         "yaxis": "y"
        }
       ],
       "layout": {
        "legend": {
         "tracegroupgap": 0
        },
        "margin": {
         "t": 60
        },
        "template": {
         "data": {
          "bar": [
           {
            "error_x": {
             "color": "#2a3f5f"
            },
            "error_y": {
             "color": "#2a3f5f"
            },
            "marker": {
             "line": {
              "color": "#E5ECF6",
              "width": 0.5
             },
             "pattern": {
              "fillmode": "overlay",
              "size": 10,
              "solidity": 0.2
             }
            },
            "type": "bar"
           }
          ],
          "barpolar": [
           {
            "marker": {
             "line": {
              "color": "#E5ECF6",
              "width": 0.5
             },
             "pattern": {
              "fillmode": "overlay",
              "size": 10,
              "solidity": 0.2
             }
            },
            "type": "barpolar"
           }
          ],
          "carpet": [
           {
            "aaxis": {
             "endlinecolor": "#2a3f5f",
             "gridcolor": "white",
             "linecolor": "white",
             "minorgridcolor": "white",
             "startlinecolor": "#2a3f5f"
            },
            "baxis": {
             "endlinecolor": "#2a3f5f",
             "gridcolor": "white",
             "linecolor": "white",
             "minorgridcolor": "white",
             "startlinecolor": "#2a3f5f"
            },
            "type": "carpet"
           }
          ],
          "choropleth": [
           {
            "colorbar": {
             "outlinewidth": 0,
             "ticks": ""
            },
            "type": "choropleth"
           }
          ],
          "contour": [
           {
            "colorbar": {
             "outlinewidth": 0,
             "ticks": ""
            },
            "colorscale": [
             [
              0,
              "#0d0887"
             ],
             [
              0.1111111111111111,
              "#46039f"
             ],
             [
              0.2222222222222222,
              "#7201a8"
             ],
             [
              0.3333333333333333,
              "#9c179e"
             ],
             [
              0.4444444444444444,
              "#bd3786"
             ],
             [
              0.5555555555555556,
              "#d8576b"
             ],
             [
              0.6666666666666666,
              "#ed7953"
             ],
             [
              0.7777777777777778,
              "#fb9f3a"
             ],
             [
              0.8888888888888888,
              "#fdca26"
             ],
             [
              1,
              "#f0f921"
             ]
            ],
            "type": "contour"
           }
          ],
          "contourcarpet": [
           {
            "colorbar": {
             "outlinewidth": 0,
             "ticks": ""
            },
            "type": "contourcarpet"
           }
          ],
          "heatmap": [
           {
            "colorbar": {
             "outlinewidth": 0,
             "ticks": ""
            },
            "colorscale": [
             [
              0,
              "#0d0887"
             ],
             [
              0.1111111111111111,
              "#46039f"
             ],
             [
              0.2222222222222222,
              "#7201a8"
             ],
             [
              0.3333333333333333,
              "#9c179e"
             ],
             [
              0.4444444444444444,
              "#bd3786"
             ],
             [
              0.5555555555555556,
              "#d8576b"
             ],
             [
              0.6666666666666666,
              "#ed7953"
             ],
             [
              0.7777777777777778,
              "#fb9f3a"
             ],
             [
              0.8888888888888888,
              "#fdca26"
             ],
             [
              1,
              "#f0f921"
             ]
            ],
            "type": "heatmap"
           }
          ],
          "heatmapgl": [
           {
            "colorbar": {
             "outlinewidth": 0,
             "ticks": ""
            },
            "colorscale": [
             [
              0,
              "#0d0887"
             ],
             [
              0.1111111111111111,
              "#46039f"
             ],
             [
              0.2222222222222222,
              "#7201a8"
             ],
             [
              0.3333333333333333,
              "#9c179e"
             ],
             [
              0.4444444444444444,
              "#bd3786"
             ],
             [
              0.5555555555555556,
              "#d8576b"
             ],
             [
              0.6666666666666666,
              "#ed7953"
             ],
             [
              0.7777777777777778,
              "#fb9f3a"
             ],
             [
              0.8888888888888888,
              "#fdca26"
             ],
             [
              1,
              "#f0f921"
             ]
            ],
            "type": "heatmapgl"
           }
          ],
          "histogram": [
           {
            "marker": {
             "pattern": {
              "fillmode": "overlay",
              "size": 10,
              "solidity": 0.2
             }
            },
            "type": "histogram"
           }
          ],
          "histogram2d": [
           {
            "colorbar": {
             "outlinewidth": 0,
             "ticks": ""
            },
            "colorscale": [
             [
              0,
              "#0d0887"
             ],
             [
              0.1111111111111111,
              "#46039f"
             ],
             [
              0.2222222222222222,
              "#7201a8"
             ],
             [
              0.3333333333333333,
              "#9c179e"
             ],
             [
              0.4444444444444444,
              "#bd3786"
             ],
             [
              0.5555555555555556,
              "#d8576b"
             ],
             [
              0.6666666666666666,
              "#ed7953"
             ],
             [
              0.7777777777777778,
              "#fb9f3a"
             ],
             [
              0.8888888888888888,
              "#fdca26"
             ],
             [
              1,
              "#f0f921"
             ]
            ],
            "type": "histogram2d"
           }
          ],
          "histogram2dcontour": [
           {
            "colorbar": {
             "outlinewidth": 0,
             "ticks": ""
            },
            "colorscale": [
             [
              0,
              "#0d0887"
             ],
             [
              0.1111111111111111,
              "#46039f"
             ],
             [
              0.2222222222222222,
              "#7201a8"
             ],
             [
              0.3333333333333333,
              "#9c179e"
             ],
             [
              0.4444444444444444,
              "#bd3786"
             ],
             [
              0.5555555555555556,
              "#d8576b"
             ],
             [
              0.6666666666666666,
              "#ed7953"
             ],
             [
              0.7777777777777778,
              "#fb9f3a"
             ],
             [
              0.8888888888888888,
              "#fdca26"
             ],
             [
              1,
              "#f0f921"
             ]
            ],
            "type": "histogram2dcontour"
           }
          ],
          "mesh3d": [
           {
            "colorbar": {
             "outlinewidth": 0,
             "ticks": ""
            },
            "type": "mesh3d"
           }
          ],
          "parcoords": [
           {
            "line": {
             "colorbar": {
              "outlinewidth": 0,
              "ticks": ""
             }
            },
            "type": "parcoords"
           }
          ],
          "pie": [
           {
            "automargin": true,
            "type": "pie"
           }
          ],
          "scatter": [
           {
            "fillpattern": {
             "fillmode": "overlay",
             "size": 10,
             "solidity": 0.2
            },
            "type": "scatter"
           }
          ],
          "scatter3d": [
           {
            "line": {
             "colorbar": {
              "outlinewidth": 0,
              "ticks": ""
             }
            },
            "marker": {
             "colorbar": {
              "outlinewidth": 0,
              "ticks": ""
             }
            },
            "type": "scatter3d"
           }
          ],
          "scattercarpet": [
           {
            "marker": {
             "colorbar": {
              "outlinewidth": 0,
              "ticks": ""
             }
            },
            "type": "scattercarpet"
           }
          ],
          "scattergeo": [
           {
            "marker": {
             "colorbar": {
              "outlinewidth": 0,
              "ticks": ""
             }
            },
            "type": "scattergeo"
           }
          ],
          "scattergl": [
           {
            "marker": {
             "colorbar": {
              "outlinewidth": 0,
              "ticks": ""
             }
            },
            "type": "scattergl"
           }
          ],
          "scattermapbox": [
           {
            "marker": {
             "colorbar": {
              "outlinewidth": 0,
              "ticks": ""
             }
            },
            "type": "scattermapbox"
           }
          ],
          "scatterpolar": [
           {
            "marker": {
             "colorbar": {
              "outlinewidth": 0,
              "ticks": ""
             }
            },
            "type": "scatterpolar"
           }
          ],
          "scatterpolargl": [
           {
            "marker": {
             "colorbar": {
              "outlinewidth": 0,
              "ticks": ""
             }
            },
            "type": "scatterpolargl"
           }
          ],
          "scatterternary": [
           {
            "marker": {
             "colorbar": {
              "outlinewidth": 0,
              "ticks": ""
             }
            },
            "type": "scatterternary"
           }
          ],
          "surface": [
           {
            "colorbar": {
             "outlinewidth": 0,
             "ticks": ""
            },
            "colorscale": [
             [
              0,
              "#0d0887"
             ],
             [
              0.1111111111111111,
              "#46039f"
             ],
             [
              0.2222222222222222,
              "#7201a8"
             ],
             [
              0.3333333333333333,
              "#9c179e"
             ],
             [
              0.4444444444444444,
              "#bd3786"
             ],
             [
              0.5555555555555556,
              "#d8576b"
             ],
             [
              0.6666666666666666,
              "#ed7953"
             ],
             [
              0.7777777777777778,
              "#fb9f3a"
             ],
             [
              0.8888888888888888,
              "#fdca26"
             ],
             [
              1,
              "#f0f921"
             ]
            ],
            "type": "surface"
           }
          ],
          "table": [
           {
            "cells": {
             "fill": {
              "color": "#EBF0F8"
             },
             "line": {
              "color": "white"
             }
            },
            "header": {
             "fill": {
              "color": "#C8D4E3"
             },
             "line": {
              "color": "white"
             }
            },
            "type": "table"
           }
          ]
         },
         "layout": {
          "annotationdefaults": {
           "arrowcolor": "#2a3f5f",
           "arrowhead": 0,
           "arrowwidth": 1
          },
          "autotypenumbers": "strict",
          "coloraxis": {
           "colorbar": {
            "outlinewidth": 0,
            "ticks": ""
           }
          },
          "colorscale": {
           "diverging": [
            [
             0,
             "#8e0152"
            ],
            [
             0.1,
             "#c51b7d"
            ],
            [
             0.2,
             "#de77ae"
            ],
            [
             0.3,
             "#f1b6da"
            ],
            [
             0.4,
             "#fde0ef"
            ],
            [
             0.5,
             "#f7f7f7"
            ],
            [
             0.6,
             "#e6f5d0"
            ],
            [
             0.7,
             "#b8e186"
            ],
            [
             0.8,
             "#7fbc41"
            ],
            [
             0.9,
             "#4d9221"
            ],
            [
             1,
             "#276419"
            ]
           ],
           "sequential": [
            [
             0,
             "#0d0887"
            ],
            [
             0.1111111111111111,
             "#46039f"
            ],
            [
             0.2222222222222222,
             "#7201a8"
            ],
            [
             0.3333333333333333,
             "#9c179e"
            ],
            [
             0.4444444444444444,
             "#bd3786"
            ],
            [
             0.5555555555555556,
             "#d8576b"
            ],
            [
             0.6666666666666666,
             "#ed7953"
            ],
            [
             0.7777777777777778,
             "#fb9f3a"
            ],
            [
             0.8888888888888888,
             "#fdca26"
            ],
            [
             1,
             "#f0f921"
            ]
           ],
           "sequentialminus": [
            [
             0,
             "#0d0887"
            ],
            [
             0.1111111111111111,
             "#46039f"
            ],
            [
             0.2222222222222222,
             "#7201a8"
            ],
            [
             0.3333333333333333,
             "#9c179e"
            ],
            [
             0.4444444444444444,
             "#bd3786"
            ],
            [
             0.5555555555555556,
             "#d8576b"
            ],
            [
             0.6666666666666666,
             "#ed7953"
            ],
            [
             0.7777777777777778,
             "#fb9f3a"
            ],
            [
             0.8888888888888888,
             "#fdca26"
            ],
            [
             1,
             "#f0f921"
            ]
           ]
          },
          "colorway": [
           "#636efa",
           "#EF553B",
           "#00cc96",
           "#ab63fa",
           "#FFA15A",
           "#19d3f3",
           "#FF6692",
           "#B6E880",
           "#FF97FF",
           "#FECB52"
          ],
          "font": {
           "color": "#2a3f5f"
          },
          "geo": {
           "bgcolor": "white",
           "lakecolor": "white",
           "landcolor": "#E5ECF6",
           "showlakes": true,
           "showland": true,
           "subunitcolor": "white"
          },
          "hoverlabel": {
           "align": "left"
          },
          "hovermode": "closest",
          "mapbox": {
           "style": "light"
          },
          "paper_bgcolor": "white",
          "plot_bgcolor": "#E5ECF6",
          "polar": {
           "angularaxis": {
            "gridcolor": "white",
            "linecolor": "white",
            "ticks": ""
           },
           "bgcolor": "#E5ECF6",
           "radialaxis": {
            "gridcolor": "white",
            "linecolor": "white",
            "ticks": ""
           }
          },
          "scene": {
           "xaxis": {
            "backgroundcolor": "#E5ECF6",
            "gridcolor": "white",
            "gridwidth": 2,
            "linecolor": "white",
            "showbackground": true,
            "ticks": "",
            "zerolinecolor": "white"
           },
           "yaxis": {
            "backgroundcolor": "#E5ECF6",
            "gridcolor": "white",
            "gridwidth": 2,
            "linecolor": "white",
            "showbackground": true,
            "ticks": "",
            "zerolinecolor": "white"
           },
           "zaxis": {
            "backgroundcolor": "#E5ECF6",
            "gridcolor": "white",
            "gridwidth": 2,
            "linecolor": "white",
            "showbackground": true,
            "ticks": "",
            "zerolinecolor": "white"
           }
          },
          "shapedefaults": {
           "line": {
            "color": "#2a3f5f"
           }
          },
          "ternary": {
           "aaxis": {
            "gridcolor": "white",
            "linecolor": "white",
            "ticks": ""
           },
           "baxis": {
            "gridcolor": "white",
            "linecolor": "white",
            "ticks": ""
           },
           "bgcolor": "#E5ECF6",
           "caxis": {
            "gridcolor": "white",
            "linecolor": "white",
            "ticks": ""
           }
          },
          "title": {
           "x": 0.05
          },
          "xaxis": {
           "automargin": true,
           "gridcolor": "white",
           "linecolor": "white",
           "ticks": "",
           "title": {
            "standoff": 15
           },
           "zerolinecolor": "white",
           "zerolinewidth": 2
          },
          "yaxis": {
           "automargin": true,
           "gridcolor": "white",
           "linecolor": "white",
           "ticks": "",
           "title": {
            "standoff": 15
           },
           "zerolinecolor": "white",
           "zerolinewidth": 2
          }
         }
        },
        "violinmode": "group",
        "xaxis": {
         "anchor": "y",
         "domain": [
          0,
          1
         ],
         "title": {
          "text": "x"
         }
        },
        "yaxis": {
         "anchor": "x",
         "domain": [
          0,
          1
         ],
         "title": {
          "text": "y"
         }
        }
       }
      }
     },
     "metadata": {},
     "output_type": "display_data"
    }
   ],
   "source": [
    "# check prediction accuracy\n",
    "\n",
    "df[\"y\"] = df[\"y\"].astype(str)\n",
    "fig = px.violin(x=df[\"y\"], y=df[\"pred\"], box=True)\n",
    "fig.show()"
   ]
  }
 ],
 "metadata": {
  "kernelspec": {
   "display_name": "learning",
   "language": "python",
   "name": "python3"
  },
  "language_info": {
   "codemirror_mode": {
    "name": "ipython",
    "version": 3
   },
   "file_extension": ".py",
   "mimetype": "text/x-python",
   "name": "python",
   "nbconvert_exporter": "python",
   "pygments_lexer": "ipython3",
   "version": "3.8.16"
  }
 },
 "nbformat": 4,
 "nbformat_minor": 2
}
